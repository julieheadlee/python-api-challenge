{
 "cells": [
  {
   "cell_type": "markdown",
   "metadata": {},
   "source": [
    "# VacationPy\n",
    "----\n",
    "\n",
    "#### Note\n",
    "* Keep an eye on your API usage. Use https://developers.google.com/maps/reporting/gmp-reporting as reference for how to monitor your usage and billing.\n",
    "\n",
    "* Instructions have been included for each segment. You do not have to follow them exactly, but they are included to help you think through the steps."
   ]
  },
  {
   "cell_type": "code",
   "execution_count": 1,
   "metadata": {},
   "outputs": [],
   "source": [
    "# Dependencies and Setup\n",
    "import matplotlib.pyplot as plt\n",
    "import pandas as pd\n",
    "import numpy as np\n",
    "import requests\n",
    "import json\n",
    "import gmaps\n",
    "import os\n",
    "\n",
    "# Import API key\n",
    "from api_keys import g_key"
   ]
  },
  {
   "cell_type": "markdown",
   "metadata": {},
   "source": [
    "### Store Part I results into DataFrame\n",
    "* Load the csv exported in Part I to a DataFrame"
   ]
  },
  {
   "cell_type": "code",
   "execution_count": 2,
   "metadata": {},
   "outputs": [
    {
     "data": {
      "text/html": [
       "<div>\n",
       "<style scoped>\n",
       "    .dataframe tbody tr th:only-of-type {\n",
       "        vertical-align: middle;\n",
       "    }\n",
       "\n",
       "    .dataframe tbody tr th {\n",
       "        vertical-align: top;\n",
       "    }\n",
       "\n",
       "    .dataframe thead th {\n",
       "        text-align: right;\n",
       "    }\n",
       "</style>\n",
       "<table border=\"1\" class=\"dataframe\">\n",
       "  <thead>\n",
       "    <tr style=\"text-align: right;\">\n",
       "      <th></th>\n",
       "      <th>city</th>\n",
       "      <th>lat</th>\n",
       "      <th>lon</th>\n",
       "      <th>maxtemp</th>\n",
       "      <th>humidity</th>\n",
       "      <th>cloudiness</th>\n",
       "      <th>windspeed</th>\n",
       "      <th>country</th>\n",
       "      <th>datetime</th>\n",
       "    </tr>\n",
       "  </thead>\n",
       "  <tbody>\n",
       "    <tr>\n",
       "      <th>0</th>\n",
       "      <td>jalu</td>\n",
       "      <td>29.03</td>\n",
       "      <td>21.55</td>\n",
       "      <td>59.20</td>\n",
       "      <td>35</td>\n",
       "      <td>0</td>\n",
       "      <td>11.54</td>\n",
       "      <td>LY</td>\n",
       "      <td>1607229534</td>\n",
       "    </tr>\n",
       "    <tr>\n",
       "      <th>1</th>\n",
       "      <td>butaritari</td>\n",
       "      <td>3.07</td>\n",
       "      <td>172.79</td>\n",
       "      <td>82.04</td>\n",
       "      <td>78</td>\n",
       "      <td>90</td>\n",
       "      <td>12.48</td>\n",
       "      <td>KI</td>\n",
       "      <td>1607229534</td>\n",
       "    </tr>\n",
       "    <tr>\n",
       "      <th>2</th>\n",
       "      <td>port elizabeth</td>\n",
       "      <td>-33.92</td>\n",
       "      <td>25.57</td>\n",
       "      <td>66.20</td>\n",
       "      <td>93</td>\n",
       "      <td>90</td>\n",
       "      <td>10.29</td>\n",
       "      <td>ZA</td>\n",
       "      <td>1607229449</td>\n",
       "    </tr>\n",
       "    <tr>\n",
       "      <th>3</th>\n",
       "      <td>yar-sale</td>\n",
       "      <td>66.83</td>\n",
       "      <td>70.83</td>\n",
       "      <td>11.26</td>\n",
       "      <td>94</td>\n",
       "      <td>92</td>\n",
       "      <td>10.40</td>\n",
       "      <td>RU</td>\n",
       "      <td>1607229534</td>\n",
       "    </tr>\n",
       "    <tr>\n",
       "      <th>4</th>\n",
       "      <td>lebu</td>\n",
       "      <td>-37.62</td>\n",
       "      <td>-73.65</td>\n",
       "      <td>52.09</td>\n",
       "      <td>92</td>\n",
       "      <td>96</td>\n",
       "      <td>12.15</td>\n",
       "      <td>CL</td>\n",
       "      <td>1607229534</td>\n",
       "    </tr>\n",
       "  </tbody>\n",
       "</table>\n",
       "</div>"
      ],
      "text/plain": [
       "             city    lat     lon  maxtemp  humidity  cloudiness  windspeed  \\\n",
       "0            jalu  29.03   21.55    59.20        35           0      11.54   \n",
       "1      butaritari   3.07  172.79    82.04        78          90      12.48   \n",
       "2  port elizabeth -33.92   25.57    66.20        93          90      10.29   \n",
       "3        yar-sale  66.83   70.83    11.26        94          92      10.40   \n",
       "4            lebu -37.62  -73.65    52.09        92          96      12.15   \n",
       "\n",
       "  country    datetime  \n",
       "0      LY  1607229534  \n",
       "1      KI  1607229534  \n",
       "2      ZA  1607229449  \n",
       "3      RU  1607229534  \n",
       "4      CL  1607229534  "
      ]
     },
     "execution_count": 2,
     "metadata": {},
     "output_type": "execute_result"
    }
   ],
   "source": [
    "city_data = pd.read_csv(\"output_data/cities.csv\", index_col=0)\n",
    "city_data.head()"
   ]
  },
  {
   "cell_type": "markdown",
   "metadata": {},
   "source": [
    "### Humidity Heatmap\n",
    "* Configure gmaps.\n",
    "* Use the Lat and Lng as locations and Humidity as the weight.\n",
    "* Add Heatmap layer to map."
   ]
  },
  {
   "cell_type": "code",
   "execution_count": 3,
   "metadata": {},
   "outputs": [],
   "source": [
    "# Google developer API key\n",
    "from api_keys import g_key\n",
    "\n",
    "# Access maps with unique API key\n",
    "gmaps.configure(api_key=g_key)"
   ]
  },
  {
   "cell_type": "code",
   "execution_count": 4,
   "metadata": {},
   "outputs": [],
   "source": [
    "# Store 'Lat' and 'Lng' into  locations \n",
    "locations = city_data[[\"lat\", \"lon\"]].astype(float)\n",
    "humidity = city_data[\"humidity\"]"
   ]
  },
  {
   "cell_type": "code",
   "execution_count": 5,
   "metadata": {
    "scrolled": true
   },
   "outputs": [
    {
     "data": {
      "application/vnd.jupyter.widget-view+json": {
       "model_id": "7b455ee567734af5b8b1d8ff7f76453b",
       "version_major": 2,
       "version_minor": 0
      },
      "text/plain": [
       "Figure(layout=FigureLayout(border='1px solid black', height='600px', padding='1px', width='1000px'))"
      ]
     },
     "metadata": {},
     "output_type": "display_data"
    }
   ],
   "source": [
    "# Create the heat map\n",
    "# Set the layout to see the majority of the data points without duplication\n",
    "figure_layout = {\n",
    "    'width': '1000px',\n",
    "    'height': '600px',\n",
    "    'border': '1px solid black',\n",
    "    'padding': '1px'\n",
    "}\n",
    "fig = gmaps.figure(center=(0.00, 0.00), zoom_level = 2, layout=figure_layout)\n",
    "\n",
    "# add the heat layer showing cities with their humidity as weight.\n",
    "heat_layer = gmaps.heatmap_layer(locations, weights=humidity, \n",
    "                                 dissipating=False, max_intensity=100,\n",
    "                                 point_radius = 5)\n",
    "fig.add_layer(heat_layer)\n",
    "\n",
    "# show the map\n",
    "fig"
   ]
  },
  {
   "cell_type": "markdown",
   "metadata": {},
   "source": [
    "### Create new DataFrame fitting weather criteria\n",
    "* Narrow down the cities to fit weather conditions.\n",
    "* Drop any rows will null values.\n",
    "\n",
    "My ideal weather conditions are:\n",
    "* Between 40 and 50 degrees\n",
    "* Medium humidity - no more than 50%\n",
    "* Light breeze only (5 mph or less)\n"
   ]
  },
  {
   "cell_type": "code",
   "execution_count": 6,
   "metadata": {},
   "outputs": [
    {
     "data": {
      "text/html": [
       "<div>\n",
       "<style scoped>\n",
       "    .dataframe tbody tr th:only-of-type {\n",
       "        vertical-align: middle;\n",
       "    }\n",
       "\n",
       "    .dataframe tbody tr th {\n",
       "        vertical-align: top;\n",
       "    }\n",
       "\n",
       "    .dataframe thead th {\n",
       "        text-align: right;\n",
       "    }\n",
       "</style>\n",
       "<table border=\"1\" class=\"dataframe\">\n",
       "  <thead>\n",
       "    <tr style=\"text-align: right;\">\n",
       "      <th></th>\n",
       "      <th>city</th>\n",
       "      <th>lat</th>\n",
       "      <th>lon</th>\n",
       "      <th>maxtemp</th>\n",
       "      <th>humidity</th>\n",
       "      <th>cloudiness</th>\n",
       "      <th>windspeed</th>\n",
       "      <th>country</th>\n",
       "      <th>datetime</th>\n",
       "    </tr>\n",
       "  </thead>\n",
       "  <tbody>\n",
       "    <tr>\n",
       "      <th>133</th>\n",
       "      <td>saint george</td>\n",
       "      <td>37.10</td>\n",
       "      <td>-113.58</td>\n",
       "      <td>41.0</td>\n",
       "      <td>18</td>\n",
       "      <td>1</td>\n",
       "      <td>1.86</td>\n",
       "      <td>US</td>\n",
       "      <td>1607229515</td>\n",
       "    </tr>\n",
       "    <tr>\n",
       "      <th>254</th>\n",
       "      <td>henderson</td>\n",
       "      <td>36.04</td>\n",
       "      <td>-114.98</td>\n",
       "      <td>48.2</td>\n",
       "      <td>20</td>\n",
       "      <td>1</td>\n",
       "      <td>1.48</td>\n",
       "      <td>US</td>\n",
       "      <td>1607229350</td>\n",
       "    </tr>\n",
       "    <tr>\n",
       "      <th>433</th>\n",
       "      <td>seoul</td>\n",
       "      <td>37.57</td>\n",
       "      <td>126.98</td>\n",
       "      <td>50.0</td>\n",
       "      <td>45</td>\n",
       "      <td>40</td>\n",
       "      <td>3.36</td>\n",
       "      <td>KR</td>\n",
       "      <td>1607229380</td>\n",
       "    </tr>\n",
       "    <tr>\n",
       "      <th>487</th>\n",
       "      <td>ankang</td>\n",
       "      <td>32.68</td>\n",
       "      <td>109.02</td>\n",
       "      <td>43.0</td>\n",
       "      <td>33</td>\n",
       "      <td>97</td>\n",
       "      <td>0.51</td>\n",
       "      <td>CN</td>\n",
       "      <td>1607229621</td>\n",
       "    </tr>\n",
       "  </tbody>\n",
       "</table>\n",
       "</div>"
      ],
      "text/plain": [
       "             city    lat     lon  maxtemp  humidity  cloudiness  windspeed  \\\n",
       "133  saint george  37.10 -113.58     41.0        18           1       1.86   \n",
       "254     henderson  36.04 -114.98     48.2        20           1       1.48   \n",
       "433         seoul  37.57  126.98     50.0        45          40       3.36   \n",
       "487        ankang  32.68  109.02     43.0        33          97       0.51   \n",
       "\n",
       "    country    datetime  \n",
       "133      US  1607229515  \n",
       "254      US  1607229350  \n",
       "433      KR  1607229380  \n",
       "487      CN  1607229621  "
      ]
     },
     "execution_count": 6,
     "metadata": {},
     "output_type": "execute_result"
    }
   ],
   "source": [
    "ideal_city_data = city_data.loc[((city_data[\"maxtemp\"] >= 40) \n",
    "                                & (city_data[\"maxtemp\"] <=50) \n",
    "                                & (city_data[\"humidity\"] <= 50)\n",
    "                                & (city_data[\"windspeed\"] <= 5))]\n",
    "ideal_city_data"
   ]
  },
  {
   "cell_type": "markdown",
   "metadata": {},
   "source": [
    "### Hotel Map\n",
    "* Store into variable named `hotel_df`.\n",
    "* Add a \"Hotel Name\" column to the DataFrame.\n",
    "* Set parameters to search for hotels with 5000 meters.\n",
    "* Hit the Google Places API for each city's coordinates.\n",
    "* Store the first Hotel result into the DataFrame.\n",
    "* Plot markers on top of the heatmap."
   ]
  },
  {
   "cell_type": "code",
   "execution_count": 7,
   "metadata": {},
   "outputs": [
    {
     "name": "stderr",
     "output_type": "stream",
     "text": [
      "<ipython-input-7-adb50f4039dc>:2: SettingWithCopyWarning: \n",
      "A value is trying to be set on a copy of a slice from a DataFrame.\n",
      "Try using .loc[row_indexer,col_indexer] = value instead\n",
      "\n",
      "See the caveats in the documentation: https://pandas.pydata.org/pandas-docs/stable/user_guide/indexing.html#returning-a-view-versus-a-copy\n",
      "  hotel_df[\"Hotel Name\"] = \"\"\n",
      "C:\\Users\\julie\\anaconda3\\lib\\site-packages\\pandas\\core\\indexing.py:966: SettingWithCopyWarning: \n",
      "A value is trying to be set on a copy of a slice from a DataFrame.\n",
      "Try using .loc[row_indexer,col_indexer] = value instead\n",
      "\n",
      "See the caveats in the documentation: https://pandas.pydata.org/pandas-docs/stable/user_guide/indexing.html#returning-a-view-versus-a-copy\n",
      "  self.obj[item] = s\n"
     ]
    },
    {
     "data": {
      "text/html": [
       "<div>\n",
       "<style scoped>\n",
       "    .dataframe tbody tr th:only-of-type {\n",
       "        vertical-align: middle;\n",
       "    }\n",
       "\n",
       "    .dataframe tbody tr th {\n",
       "        vertical-align: top;\n",
       "    }\n",
       "\n",
       "    .dataframe thead th {\n",
       "        text-align: right;\n",
       "    }\n",
       "</style>\n",
       "<table border=\"1\" class=\"dataframe\">\n",
       "  <thead>\n",
       "    <tr style=\"text-align: right;\">\n",
       "      <th></th>\n",
       "      <th>city</th>\n",
       "      <th>lat</th>\n",
       "      <th>lon</th>\n",
       "      <th>maxtemp</th>\n",
       "      <th>humidity</th>\n",
       "      <th>cloudiness</th>\n",
       "      <th>windspeed</th>\n",
       "      <th>country</th>\n",
       "      <th>datetime</th>\n",
       "      <th>Hotel Name</th>\n",
       "    </tr>\n",
       "  </thead>\n",
       "  <tbody>\n",
       "    <tr>\n",
       "      <th>133</th>\n",
       "      <td>saint george</td>\n",
       "      <td>37.10</td>\n",
       "      <td>-113.58</td>\n",
       "      <td>41.0</td>\n",
       "      <td>18</td>\n",
       "      <td>1</td>\n",
       "      <td>1.86</td>\n",
       "      <td>US</td>\n",
       "      <td>1607229515</td>\n",
       "      <td>Best Western Plus Abbey Inn</td>\n",
       "    </tr>\n",
       "    <tr>\n",
       "      <th>254</th>\n",
       "      <td>henderson</td>\n",
       "      <td>36.04</td>\n",
       "      <td>-114.98</td>\n",
       "      <td>48.2</td>\n",
       "      <td>20</td>\n",
       "      <td>1</td>\n",
       "      <td>1.48</td>\n",
       "      <td>US</td>\n",
       "      <td>1607229350</td>\n",
       "      <td>Hawthorn Suites By Wyndham Las Vegas/Henderson</td>\n",
       "    </tr>\n",
       "    <tr>\n",
       "      <th>433</th>\n",
       "      <td>seoul</td>\n",
       "      <td>37.57</td>\n",
       "      <td>126.98</td>\n",
       "      <td>50.0</td>\n",
       "      <td>45</td>\n",
       "      <td>40</td>\n",
       "      <td>3.36</td>\n",
       "      <td>KR</td>\n",
       "      <td>1607229380</td>\n",
       "      <td>LOTTE HOTEL SEOUL</td>\n",
       "    </tr>\n",
       "    <tr>\n",
       "      <th>487</th>\n",
       "      <td>ankang</td>\n",
       "      <td>32.68</td>\n",
       "      <td>109.02</td>\n",
       "      <td>43.0</td>\n",
       "      <td>33</td>\n",
       "      <td>97</td>\n",
       "      <td>0.51</td>\n",
       "      <td>CN</td>\n",
       "      <td>1607229621</td>\n",
       "      <td>安琪酒店</td>\n",
       "    </tr>\n",
       "  </tbody>\n",
       "</table>\n",
       "</div>"
      ],
      "text/plain": [
       "             city    lat     lon  maxtemp  humidity  cloudiness  windspeed  \\\n",
       "133  saint george  37.10 -113.58     41.0        18           1       1.86   \n",
       "254     henderson  36.04 -114.98     48.2        20           1       1.48   \n",
       "433         seoul  37.57  126.98     50.0        45          40       3.36   \n",
       "487        ankang  32.68  109.02     43.0        33          97       0.51   \n",
       "\n",
       "    country    datetime                                      Hotel Name  \n",
       "133      US  1607229515                     Best Western Plus Abbey Inn  \n",
       "254      US  1607229350  Hawthorn Suites By Wyndham Las Vegas/Henderson  \n",
       "433      KR  1607229380                               LOTTE HOTEL SEOUL  \n",
       "487      CN  1607229621                                            安琪酒店  "
      ]
     },
     "execution_count": 7,
     "metadata": {},
     "output_type": "execute_result"
    }
   ],
   "source": [
    "hotel_df = ideal_city_data\n",
    "hotel_df[\"Hotel Name\"] = \"\"\n",
    "\n",
    "target_radius = 5000\n",
    "target_type = \"lodging\"\n",
    "\n",
    "for index, row in hotel_df.iterrows():\n",
    "    target_coordinates = str(row['lat']) + \",\" + str(row['lon'])\n",
    "    # set up a parameters dictionary\n",
    "    params = {\n",
    "        \"location\": target_coordinates,\n",
    "        \"radius\": target_radius,\n",
    "        \"type\": target_type,\n",
    "        \"key\": g_key\n",
    "    }\n",
    "\n",
    "    # base url\n",
    "    base_url = \"https://maps.googleapis.com/maps/api/place/nearbysearch/json\"\n",
    "\n",
    "    # run a request using our params dictionary\n",
    "    response = requests.get(base_url, params=params).json()\n",
    "    hotel_df.loc[index,[\"Hotel Name\"]] = response[\"results\"][0][\"name\"]\n",
    "    hotel.append(response[\"results\"][0][\"name\"])\n",
    "\n"
   ]
  },
  {
   "cell_type": "code",
   "execution_count": 8,
   "metadata": {},
   "outputs": [],
   "source": [
    "# NOTE: Do not change any of the code in this cell\n",
    "\n",
    "# Using the template add the hotel marks to the heatmap\n",
    "info_box_template = \"\"\"\n",
    "<dl>\n",
    "<dt>Name</dt><dd>{Hotel Name}</dd>\n",
    "<dt>City</dt><dd>{city}</dd>\n",
    "<dt>Country</dt><dd>{country}</dd>\n",
    "</dl>\n",
    "\"\"\"\n",
    "# Store the DataFrame Row\n",
    "# NOTE: be sure to update with your DataFrame name\n",
    "hotel_info = [info_box_template.format(**row) for index, row in hotel_df.iterrows()]\n",
    "locations = hotel_df[[\"lat\", \"lon\"]]"
   ]
  },
  {
   "cell_type": "code",
   "execution_count": 12,
   "metadata": {},
   "outputs": [
    {
     "data": {
      "text/plain": [
       "['\\n<dl>\\n<dt>Name</dt><dd>Best Western Plus Abbey Inn</dd>\\n<dt>City</dt><dd>saint george</dd>\\n<dt>Country</dt><dd>US</dd>\\n</dl>\\n',\n",
       " '\\n<dl>\\n<dt>Name</dt><dd>Hawthorn Suites By Wyndham Las Vegas/Henderson</dd>\\n<dt>City</dt><dd>henderson</dd>\\n<dt>Country</dt><dd>US</dd>\\n</dl>\\n',\n",
       " '\\n<dl>\\n<dt>Name</dt><dd>LOTTE HOTEL SEOUL</dd>\\n<dt>City</dt><dd>seoul</dd>\\n<dt>Country</dt><dd>KR</dd>\\n</dl>\\n',\n",
       " '\\n<dl>\\n<dt>Name</dt><dd>安琪酒店</dd>\\n<dt>City</dt><dd>ankang</dd>\\n<dt>Country</dt><dd>CN</dd>\\n</dl>\\n']"
      ]
     },
     "execution_count": 12,
     "metadata": {},
     "output_type": "execute_result"
    }
   ],
   "source": [
    "# Add marker layer ontop of heat map\n",
    "markers = gmaps.marker_layer(locations, hotel_info)\n",
    "fig.add_layer(markers)\n",
    "\n",
    "# Display figure\n",
    "fig\n"
   ]
  },
  {
   "cell_type": "code",
   "execution_count": null,
   "metadata": {},
   "outputs": [],
   "source": []
  }
 ],
 "metadata": {
  "kernelspec": {
   "display_name": "Python 3",
   "language": "python",
   "name": "python3"
  },
  "language_info": {
   "codemirror_mode": {
    "name": "ipython",
    "version": 3
   },
   "file_extension": ".py",
   "mimetype": "text/x-python",
   "name": "python",
   "nbconvert_exporter": "python",
   "pygments_lexer": "ipython3",
   "version": "3.8.3"
  },
  "latex_envs": {
   "LaTeX_envs_menu_present": true,
   "autoclose": false,
   "autocomplete": true,
   "bibliofile": "biblio.bib",
   "cite_by": "apalike",
   "current_citInitial": 1,
   "eqLabelWithNumbers": true,
   "eqNumInitial": 1,
   "hotkeys": {
    "equation": "Ctrl-E",
    "itemize": "Ctrl-I"
   },
   "labels_anchors": false,
   "latex_user_defs": false,
   "report_style_numbering": false,
   "user_envs_cfg": false
  }
 },
 "nbformat": 4,
 "nbformat_minor": 4
}
