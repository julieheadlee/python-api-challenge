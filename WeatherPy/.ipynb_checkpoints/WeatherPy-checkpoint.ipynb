{
 "cells": [
  {
   "cell_type": "markdown",
   "metadata": {},
   "source": [
    "# WeatherPy\n",
    "----\n",
    "\n",
    "#### Note\n",
    "* Instructions have been included for each segment. You do not have to follow them exactly, but they are included to help you think through the steps."
   ]
  },
  {
   "cell_type": "code",
   "execution_count": 1,
   "metadata": {
    "scrolled": true
   },
   "outputs": [],
   "source": [
    "# Dependencies and Setup\n",
    "import matplotlib.pyplot as plt\n",
    "import pandas as pd\n",
    "import numpy as np\n",
    "import requests\n",
    "import time\n",
    "from scipy.stats import linregress \n",
    "\n",
    "# Import API key\n",
    "from api_keys import weather_api_key\n",
    "\n",
    "# Incorporated citipy to determine city based on latitude and longitude\n",
    "from citipy import citipy\n",
    "\n",
    "# Output File (CSV)\n",
    "output_data_file = \"output_data/cities.csv\"\n",
    "\n",
    "# Range of latitudes and longitudes\n",
    "lat_range = (-90, 90)\n",
    "lng_range = (-180, 180)"
   ]
  },
  {
   "cell_type": "markdown",
   "metadata": {},
   "source": [
    "## Generate Cities List"
   ]
  },
  {
   "cell_type": "code",
   "execution_count": 2,
   "metadata": {},
   "outputs": [
    {
     "name": "stdout",
     "output_type": "stream",
     "text": [
      "['paita', 'ushuaia', 'san patricio', 'gua musang', 'tuktoyaktuk', 'san cristobal', 'gelemso', 'umea', 'dingle', 'epe', 'qaanaaq', 'pevek', 'iqaluit', 'nikolskoye', 'kiruna', 'punta arenas', 'avarua', 'dikson', 'umzimvubu']\n"
     ]
    }
   ],
   "source": [
    "# List for holding lat_lngs and cities\n",
    "lat_lngs = []\n",
    "cities = []\n",
    "\n",
    "# Create a set of random lat and lng combinations -- added smaller sample to test\n",
    "#lats = np.random.uniform(lat_range[0], lat_range[1], size=1500)\n",
    "lats = np.random.uniform(lat_range[0], lat_range[1], size=20)\n",
    "#lngs = np.random.uniform(lng_range[0], lng_range[1], size=1500)\n",
    "lngs = np.random.uniform(lng_range[0], lng_range[1], size=20)\n",
    "lat_lngs = zip(lats, lngs)\n",
    "\n",
    "# Identify nearest city for each lat, lng combination\n",
    "for lat_lng in lat_lngs:\n",
    "    city = citipy.nearest_city(lat_lng[0], lat_lng[1]).city_name\n",
    "    \n",
    "    # If the city is unique, then add it to a our cities list\n",
    "    if city not in cities:\n",
    "        cities.append(city)\n",
    "\n",
    "# Print the city count to confirm sufficient count\n",
    "len(cities)\n",
    "print(cities)"
   ]
  },
  {
   "cell_type": "markdown",
   "metadata": {},
   "source": [
    "### Perform API Calls\n",
    "* Perform a weather check on each city using a series of successive API calls.\n",
    "* Include a print log of each city as it'sbeing processed (with the city number and city name).\n"
   ]
  },
  {
   "cell_type": "code",
   "execution_count": 3,
   "metadata": {
    "scrolled": true
   },
   "outputs": [
    {
     "name": "stdout",
     "output_type": "stream",
     "text": [
      "Beginning Data Retrieval\n",
      "--------------------------------\n",
      "Processing Record 1 | paita\n",
      "Processing Record 2 | ushuaia\n",
      "Processing Record 3 | san patricio\n",
      "Processing Record 4 | gua musang\n",
      "Processing Record 5 | tuktoyaktuk\n",
      "Processing Record 6 | san cristobal\n",
      "Processing Record 7 | gelemso\n",
      "Processing Record 8 | umea\n",
      "Processing Record 9 | dingle\n",
      "Processing Record 10 | epe\n",
      "Processing Record 11 | qaanaaq\n",
      "Processing Record 12 | pevek\n",
      "Processing Record 13 | iqaluit\n",
      "Processing Record 14 | nikolskoye\n",
      "Processing Record 15 | kiruna\n",
      "Processing Record 16 | punta arenas\n",
      "Processing Record 17 | avarua\n",
      "Processing Record 18 | dikson\n",
      "Processing Record 19 | umzimvubu\n",
      "City not found.  Skipping...\n"
     ]
    }
   ],
   "source": [
    "base_url = \"http://api.openweathermap.org/data/2.5/weather?units=imperial&appid=\" + weather_api_key + \"&q=\"\n",
    "\n",
    "print(\"Beginning Data Retrieval\")\n",
    "print(\"--------------------------------\")\n",
    "\n",
    "#set up lists to hold data retrieved in the for loop\n",
    "lat = []\n",
    "lon = []\n",
    "temperature = []\n",
    "humidity = []\n",
    "cloudiness = []\n",
    "windspeed = []\n",
    "country = []\n",
    "datetime = []\n",
    "\n",
    "good_city = []\n",
    "\n",
    "cityCount = 0\n",
    "# Build query URL\n",
    "for city in cities:\n",
    "    cityCount += 1\n",
    "    print(f\"Processing Record {cityCount} | {city}\")\n",
    "    try:\n",
    "        weather_response = requests.get(base_url + city)\n",
    "        weather_json = weather_response.json()\n",
    "        lat.append(weather_json[\"coord\"][\"lat\"])\n",
    "        lon.append(weather_json[\"coord\"][\"lon\"])\n",
    "        temperature.append(weather_json[\"main\"][\"temp_max\"])\n",
    "        humidity.append(weather_json[\"main\"][\"humidity\"])\n",
    "        cloudiness.append(weather_json[\"clouds\"][\"all\"])\n",
    "        windspeed.append(weather_json[\"wind\"][\"speed\"])\n",
    "        country.append(weather_json[\"sys\"][\"country\"])\n",
    "        datetime.append(weather_json[\"dt\"])\n",
    "        good_city.append(city)\n",
    "    except: \n",
    "        print(\"City not found.  Skipping...\")\n",
    " "
   ]
  },
  {
   "cell_type": "markdown",
   "metadata": {},
   "source": [
    "### Convert Raw Data to DataFrame\n",
    "* Export the city data into a .csv.\n",
    "* Display the DataFrame"
   ]
  },
  {
   "cell_type": "code",
   "execution_count": 4,
   "metadata": {},
   "outputs": [
    {
     "data": {
      "text/html": [
       "<div>\n",
       "<style scoped>\n",
       "    .dataframe tbody tr th:only-of-type {\n",
       "        vertical-align: middle;\n",
       "    }\n",
       "\n",
       "    .dataframe tbody tr th {\n",
       "        vertical-align: top;\n",
       "    }\n",
       "\n",
       "    .dataframe thead th {\n",
       "        text-align: right;\n",
       "    }\n",
       "</style>\n",
       "<table border=\"1\" class=\"dataframe\">\n",
       "  <thead>\n",
       "    <tr style=\"text-align: right;\">\n",
       "      <th></th>\n",
       "      <th>city</th>\n",
       "      <th>lat</th>\n",
       "      <th>lon</th>\n",
       "      <th>maxtemp</th>\n",
       "      <th>humidity</th>\n",
       "      <th>cloudiness</th>\n",
       "      <th>windspeed</th>\n",
       "      <th>country</th>\n",
       "      <th>datetime</th>\n",
       "    </tr>\n",
       "  </thead>\n",
       "  <tbody>\n",
       "    <tr>\n",
       "      <th>0</th>\n",
       "      <td>paita</td>\n",
       "      <td>-5.09</td>\n",
       "      <td>-81.11</td>\n",
       "      <td>67.17</td>\n",
       "      <td>81</td>\n",
       "      <td>100</td>\n",
       "      <td>9.44</td>\n",
       "      <td>PE</td>\n",
       "      <td>1607145621</td>\n",
       "    </tr>\n",
       "    <tr>\n",
       "      <th>1</th>\n",
       "      <td>ushuaia</td>\n",
       "      <td>-54.80</td>\n",
       "      <td>-68.30</td>\n",
       "      <td>48.20</td>\n",
       "      <td>76</td>\n",
       "      <td>40</td>\n",
       "      <td>5.82</td>\n",
       "      <td>AR</td>\n",
       "      <td>1607145621</td>\n",
       "    </tr>\n",
       "    <tr>\n",
       "      <th>2</th>\n",
       "      <td>san patricio</td>\n",
       "      <td>28.02</td>\n",
       "      <td>-97.52</td>\n",
       "      <td>46.99</td>\n",
       "      <td>70</td>\n",
       "      <td>20</td>\n",
       "      <td>3.40</td>\n",
       "      <td>US</td>\n",
       "      <td>1607145622</td>\n",
       "    </tr>\n",
       "    <tr>\n",
       "      <th>3</th>\n",
       "      <td>gua musang</td>\n",
       "      <td>4.88</td>\n",
       "      <td>101.96</td>\n",
       "      <td>85.91</td>\n",
       "      <td>56</td>\n",
       "      <td>69</td>\n",
       "      <td>3.89</td>\n",
       "      <td>MY</td>\n",
       "      <td>1607145622</td>\n",
       "    </tr>\n",
       "    <tr>\n",
       "      <th>4</th>\n",
       "      <td>tuktoyaktuk</td>\n",
       "      <td>69.45</td>\n",
       "      <td>-133.04</td>\n",
       "      <td>-2.20</td>\n",
       "      <td>77</td>\n",
       "      <td>5</td>\n",
       "      <td>2.24</td>\n",
       "      <td>CA</td>\n",
       "      <td>1607145622</td>\n",
       "    </tr>\n",
       "  </tbody>\n",
       "</table>\n",
       "</div>"
      ],
      "text/plain": [
       "           city    lat     lon  maxtemp  humidity  cloudiness  windspeed  \\\n",
       "0         paita  -5.09  -81.11    67.17        81         100       9.44   \n",
       "1       ushuaia -54.80  -68.30    48.20        76          40       5.82   \n",
       "2  san patricio  28.02  -97.52    46.99        70          20       3.40   \n",
       "3    gua musang   4.88  101.96    85.91        56          69       3.89   \n",
       "4   tuktoyaktuk  69.45 -133.04    -2.20        77           5       2.24   \n",
       "\n",
       "  country    datetime  \n",
       "0      PE  1607145621  \n",
       "1      AR  1607145621  \n",
       "2      US  1607145622  \n",
       "3      MY  1607145622  \n",
       "4      CA  1607145622  "
      ]
     },
     "execution_count": 4,
     "metadata": {},
     "output_type": "execute_result"
    }
   ],
   "source": [
    "# Create the dictionary from the individual lists\n",
    "city_dict = {\n",
    "    \"city\": good_city,\n",
    "    \"lat\": lat,\n",
    "    \"lon\": lon,\n",
    "    \"maxtemp\": temperature,\n",
    "    \"humidity\": humidity,\n",
    "    \"cloudiness\": cloudiness,\n",
    "    \"windspeed\": windspeed,\n",
    "    \"country\": country,\n",
    "    \"datetime\": datetime\n",
    "}\n",
    "\n",
    "#Convert dictionary to dataframe\n",
    "city_data = pd.DataFrame(city_dict)\n",
    "\n",
    "# Save the dataframe as a csv.\n",
    "city_data.to_csv(output_data_file)\n",
    "\n",
    "# Print the first five rows of the dataframe\n",
    "city_data.head()"
   ]
  },
  {
   "cell_type": "markdown",
   "metadata": {},
   "source": [
    "## Inspect the data and remove the cities where the humidity > 100%.\n",
    "----\n",
    "Skip this step if there are no cities that have humidity > 100%. "
   ]
  },
  {
   "cell_type": "code",
   "execution_count": 5,
   "metadata": {},
   "outputs": [],
   "source": [
    "# Simple method to make sure humidity levels above 100 are dropped\n",
    "clean_city_data = city_data.loc[city_data[\"humidity\"] <= 100]"
   ]
  },
  {
   "cell_type": "code",
   "execution_count": 6,
   "metadata": {},
   "outputs": [
    {
     "data": {
      "text/html": [
       "<div>\n",
       "<style scoped>\n",
       "    .dataframe tbody tr th:only-of-type {\n",
       "        vertical-align: middle;\n",
       "    }\n",
       "\n",
       "    .dataframe tbody tr th {\n",
       "        vertical-align: top;\n",
       "    }\n",
       "\n",
       "    .dataframe thead th {\n",
       "        text-align: right;\n",
       "    }\n",
       "</style>\n",
       "<table border=\"1\" class=\"dataframe\">\n",
       "  <thead>\n",
       "    <tr style=\"text-align: right;\">\n",
       "      <th></th>\n",
       "      <th>city</th>\n",
       "      <th>lat</th>\n",
       "      <th>lon</th>\n",
       "      <th>maxtemp</th>\n",
       "      <th>humidity</th>\n",
       "      <th>cloudiness</th>\n",
       "      <th>windspeed</th>\n",
       "      <th>country</th>\n",
       "      <th>datetime</th>\n",
       "    </tr>\n",
       "  </thead>\n",
       "  <tbody>\n",
       "    <tr>\n",
       "      <th>0</th>\n",
       "      <td>paita</td>\n",
       "      <td>-5.09</td>\n",
       "      <td>-81.11</td>\n",
       "      <td>67.17</td>\n",
       "      <td>81</td>\n",
       "      <td>100</td>\n",
       "      <td>9.44</td>\n",
       "      <td>PE</td>\n",
       "      <td>1607145621</td>\n",
       "    </tr>\n",
       "    <tr>\n",
       "      <th>1</th>\n",
       "      <td>ushuaia</td>\n",
       "      <td>-54.80</td>\n",
       "      <td>-68.30</td>\n",
       "      <td>48.20</td>\n",
       "      <td>76</td>\n",
       "      <td>40</td>\n",
       "      <td>5.82</td>\n",
       "      <td>AR</td>\n",
       "      <td>1607145621</td>\n",
       "    </tr>\n",
       "    <tr>\n",
       "      <th>2</th>\n",
       "      <td>san patricio</td>\n",
       "      <td>28.02</td>\n",
       "      <td>-97.52</td>\n",
       "      <td>46.99</td>\n",
       "      <td>70</td>\n",
       "      <td>20</td>\n",
       "      <td>3.40</td>\n",
       "      <td>US</td>\n",
       "      <td>1607145622</td>\n",
       "    </tr>\n",
       "    <tr>\n",
       "      <th>3</th>\n",
       "      <td>gua musang</td>\n",
       "      <td>4.88</td>\n",
       "      <td>101.96</td>\n",
       "      <td>85.91</td>\n",
       "      <td>56</td>\n",
       "      <td>69</td>\n",
       "      <td>3.89</td>\n",
       "      <td>MY</td>\n",
       "      <td>1607145622</td>\n",
       "    </tr>\n",
       "    <tr>\n",
       "      <th>4</th>\n",
       "      <td>tuktoyaktuk</td>\n",
       "      <td>69.45</td>\n",
       "      <td>-133.04</td>\n",
       "      <td>-2.20</td>\n",
       "      <td>77</td>\n",
       "      <td>5</td>\n",
       "      <td>2.24</td>\n",
       "      <td>CA</td>\n",
       "      <td>1607145622</td>\n",
       "    </tr>\n",
       "  </tbody>\n",
       "</table>\n",
       "</div>"
      ],
      "text/plain": [
       "           city    lat     lon  maxtemp  humidity  cloudiness  windspeed  \\\n",
       "0         paita  -5.09  -81.11    67.17        81         100       9.44   \n",
       "1       ushuaia -54.80  -68.30    48.20        76          40       5.82   \n",
       "2  san patricio  28.02  -97.52    46.99        70          20       3.40   \n",
       "3    gua musang   4.88  101.96    85.91        56          69       3.89   \n",
       "4   tuktoyaktuk  69.45 -133.04    -2.20        77           5       2.24   \n",
       "\n",
       "  country    datetime  \n",
       "0      PE  1607145621  \n",
       "1      AR  1607145621  \n",
       "2      US  1607145622  \n",
       "3      MY  1607145622  \n",
       "4      CA  1607145622  "
      ]
     },
     "execution_count": 6,
     "metadata": {},
     "output_type": "execute_result"
    }
   ],
   "source": [
    "# print the first 5 again\n",
    "clean_city_data.head()\n"
   ]
  },
  {
   "cell_type": "markdown",
   "metadata": {},
   "source": [
    "## Plotting the Data\n",
    "* Use proper labeling of the plots using plot titles (including date of analysis) and axes labels.\n",
    "* Save the plotted figures as .pngs."
   ]
  },
  {
   "cell_type": "markdown",
   "metadata": {},
   "source": [
    "## Latitude vs. Temperature Plot"
   ]
  },
  {
   "cell_type": "code",
   "execution_count": 7,
   "metadata": {
    "scrolled": true
   },
   "outputs": [
    {
     "data": {
      "image/png": "[encoded data removed]",
      "text/plain": [
       "<Figure size 432x288 with 1 Axes>"
      ]
     },
     "metadata": {
      "needs_background": "light"
     },
     "output_type": "display_data"
    }
   ],
   "source": [
    "# Define \n",
    "temps = clean_city_data[\"maxtemp\"].tolist()\n",
    "lat = clean_city_data[\"lat\"].tolist()\n",
    "\n",
    "plt.scatter(lat, temps, marker=\"o\", facecolors=\"red\", edgecolors=\"black\")\n",
    "\n",
    "# Refine the display\n",
    "plt.ylim(-10, 120)\n",
    "plt.xlim(-90, 90)\n",
    "plt.title(\"City Latitude vs. Maximum Temperature\")\n",
    "plt.xlabel(\"Latitude\")\n",
    "plt.ylabel(\"Maximum Temperature (F)\")\n",
    "plt.savefig(\"output_data/latitude_temperature.png\")\n",
    "plt.show()"
   ]
  },
  {
   "cell_type": "markdown",
   "metadata": {},
   "source": [
    "## Latitude vs. Humidity Plot"
   ]
  },
  {
   "cell_type": "code",
   "execution_count": 8,
   "metadata": {},
   "outputs": [
    {
     "data": {
      "image/png": "[encoded data removed]",
      "text/plain": [
       "<Figure size 432x288 with 1 Axes>"
      ]
     },
     "metadata": {
      "needs_background": "light"
     },
     "output_type": "display_data"
    }
   ],
   "source": [
    "# Define \n",
    "humidity = clean_city_data[\"humidity\"].tolist()\n",
    "lat = clean_city_data[\"lat\"].tolist()\n",
    "\n",
    "plt.scatter(lat, humidity, marker=\"o\", facecolors=\"lightblue\", edgecolors=\"black\")\n",
    "\n",
    "# Refine the display\n",
    "plt.ylim(-5, 105)\n",
    "plt.xlim(-90, 90)\n",
    "plt.title(\"City Latitude vs. Humidity Percentage Level\")\n",
    "plt.xlabel(\"Latitude\")\n",
    "plt.ylabel(\"Humidity (%)\")\n",
    "plt.savefig(\"output_data/latitude_humidity.png\")\n",
    "plt.show()"
   ]
  },
  {
   "cell_type": "markdown",
   "metadata": {},
   "source": [
    "## Latitude vs. Cloudiness Plot"
   ]
  },
  {
   "cell_type": "code",
   "execution_count": 9,
   "metadata": {},
   "outputs": [
    {
     "data": {
      "image/png": "[encoded data removed]",
      "text/plain": [
       "<Figure size 432x288 with 1 Axes>"
      ]
     },
     "metadata": {
      "needs_background": "light"
     },
     "output_type": "display_data"
    }
   ],
   "source": [
    "# Define \n",
    "humidity = clean_city_data[\"cloudiness\"].tolist()\n",
    "lat = clean_city_data[\"lat\"].tolist()\n",
    "\n",
    "plt.scatter(lat, cloudiness, marker=\"o\", facecolors=\"lightgreen\", edgecolors=\"black\")\n",
    "\n",
    "# Refine the display\n",
    "plt.ylim(-5, 105)\n",
    "plt.xlim(-90, 90)\n",
    "plt.title(\"City Latitude vs. Cloud Coverage\")\n",
    "plt.xlabel(\"Latitude\")\n",
    "plt.ylabel(\"Cloud Coverage (%)\")\n",
    "plt.savefig(\"output_data/latitude_cloudiness.png\")\n",
    "plt.show()"
   ]
  },
  {
   "cell_type": "markdown",
   "metadata": {},
   "source": [
    "## Latitude vs. Wind Speed Plot"
   ]
  },
  {
   "cell_type": "code",
   "execution_count": 10,
   "metadata": {},
   "outputs": [
    {
     "data": {
      "image/png": "[encoded data removed]",
      "text/plain": [
       "<Figure size 432x288 with 1 Axes>"
      ]
     },
     "metadata": {
      "needs_background": "light"
     },
     "output_type": "display_data"
    }
   ],
   "source": [
    "# Define \n",
    "humidity = clean_city_data[\"windspeed\"].tolist()\n",
    "lat = clean_city_data[\"lat\"].tolist()\n",
    "\n",
    "plt.scatter(lat, windspeed, marker=\"o\", facecolors=\"purple\", edgecolors=\"black\")\n",
    "\n",
    "# Refine the display\n",
    "#plt.ylim(-5, 105)\n",
    "plt.xlim(-90, 90)\n",
    "plt.title(\"City Latitude vs. Windspeed (mph)\")\n",
    "plt.xlabel(\"Latitude\")\n",
    "plt.ylabel(\"Windspeed (mph)\")\n",
    "plt.savefig(\"output_data/latitude_windspeed.png\")\n",
    "plt.show()"
   ]
  },
  {
   "cell_type": "markdown",
   "metadata": {},
   "source": [
    "## Linear Regression"
   ]
  },
  {
   "cell_type": "code",
   "execution_count": 11,
   "metadata": {},
   "outputs": [],
   "source": [
    "# Create northern and southern hemisphere datasets.  I am arbitrarily assigning 0 latitude to southern.\n",
    "northern_city_data = clean_city_data.loc[city_data[\"lat\"] > 0]\n",
    "southern_city_data = clean_city_data.loc[city_data[\"lat\"] <= 0]\n",
    "\n"
   ]
  },
  {
   "cell_type": "markdown",
   "metadata": {},
   "source": [
    "####  Northern Hemisphere - Max Temp vs. Latitude Linear Regression"
   ]
  },
  {
   "cell_type": "code",
   "execution_count": 13,
   "metadata": {},
   "outputs": [],
   "source": [
    "# Create lists\n",
    "n_temp = northern_city_data[\"maxtemp\"].tolist()\n",
    "n_lat = northern_city_data[\"lat\"].tolist()\n",
    "\n",
    "# Find regression \n",
    "nt_slope, nt_int, nt_r, nt_p, nt_std_err = linregress(n_lat, n_temp)\n"
   ]
  },
  {
   "cell_type": "markdown",
   "metadata": {},
   "source": [
    "####  Southern Hemisphere - Max Temp vs. Latitude Linear Regression"
   ]
  },
  {
   "cell_type": "code",
   "execution_count": null,
   "metadata": {},
   "outputs": [],
   "source": [
    "# Create lists\n",
    "s_temp = southern_city_data[\"maxtemp\"].tolist()\n",
    "s_lat = southern_city_data[\"lat\"].tolist()\n",
    "\n",
    "# Find regression \n",
    "st_slope, st_int, st_r, st_p, st_std_err = linregress(s_lat, s_temp)\n"
   ]
  },
  {
   "cell_type": "markdown",
   "metadata": {},
   "source": [
    "####  Northern Hemisphere - Humidity (%) vs. Latitude Linear Regression"
   ]
  },
  {
   "cell_type": "code",
   "execution_count": 14,
   "metadata": {},
   "outputs": [],
   "source": [
    "# Create lists\n",
    "n_humidity = northern_city_data[\"humidity\"].tolist()\n",
    "n_lat = northern_city_data[\"lat\"].tolist()\n",
    "\n",
    "# Find regression \n",
    "nh_slope, nh_int, nh_r, nh_p, nh_std_err = linregress(n_lat, n_humidity)\n"
   ]
  },
  {
   "cell_type": "markdown",
   "metadata": {},
   "source": [
    "####  Southern Hemisphere - Humidity (%) vs. Latitude Linear Regression"
   ]
  },
  {
   "cell_type": "code",
   "execution_count": 17,
   "metadata": {},
   "outputs": [],
   "source": [
    "# Create lists\n",
    "s_humidity = southern_city_data[\"humidity\"].tolist()\n",
    "s_lat = southern_city_data[\"lat\"].tolist()\n",
    "\n",
    "# Find regression \n",
    "sh_slope, sh_int, sh_r, sh_p, sh_std_err = linregress(s_lat, s_humidity)\n"
   ]
  },
  {
   "cell_type": "markdown",
   "metadata": {},
   "source": [
    "####  Northern Hemisphere - Cloudiness (%) vs. Latitude Linear Regression"
   ]
  },
  {
   "cell_type": "code",
   "execution_count": 15,
   "metadata": {},
   "outputs": [],
   "source": [
    "# Create lists\n",
    "n_clouds = northern_city_data[\"cloudiness\"].tolist()\n",
    "n_lat = northern_city_data[\"lat\"].tolist()\n",
    "\n",
    "# Find regression \n",
    "nc_slope, nc_int, nc_r, nc_p, nc_std_err = linregress(n_lat, n_clouds)\n"
   ]
  },
  {
   "cell_type": "markdown",
   "metadata": {},
   "source": [
    "####  Southern Hemisphere - Cloudiness (%) vs. Latitude Linear Regression"
   ]
  },
  {
   "cell_type": "code",
   "execution_count": 18,
   "metadata": {},
   "outputs": [],
   "source": [
    "# Create lists\n",
    "s_clouds = southern_city_data[\"cloudiness\"].tolist()\n",
    "s_lat = southern_city_data[\"lat\"].tolist()\n",
    "\n",
    "# Find regression \n",
    "sc_slope, sc_int, sc_r, sc_p, sc_std_err = linregress(s_lat, s_clouds)\n"
   ]
  },
  {
   "cell_type": "markdown",
   "metadata": {},
   "source": [
    "####  Northern Hemisphere - Wind Speed (mph) vs. Latitude Linear Regression"
   ]
  },
  {
   "cell_type": "code",
   "execution_count": 16,
   "metadata": {},
   "outputs": [],
   "source": [
    "# Create lists\n",
    "n_wind = northern_city_data[\"windspeed\"].tolist()\n",
    "n_lat = northern_city_data[\"lat\"].tolist()\n",
    "\n",
    "# Find regression \n",
    "nw_slope, nw_int, nw_r, nw_p, nw_std_err = linregress(n_lat, n_wind)\n"
   ]
  },
  {
   "cell_type": "markdown",
   "metadata": {},
   "source": [
    "####  Southern Hemisphere - Wind Speed (mph) vs. Latitude Linear Regression"
   ]
  },
  {
   "cell_type": "code",
   "execution_count": 19,
   "metadata": {},
   "outputs": [],
   "source": [
    "# Create lists\n",
    "s_wind = southern_city_data[\"windspeed\"].tolist()\n",
    "s_lat = southern_city_data[\"lat\"].tolist()\n",
    "\n",
    "# Find regression \n",
    "sw_slope, sw_int, sw_r, sw_p, sw_std_err = linregress(s_lat, s_wind)\n"
   ]
  },
  {
   "cell_type": "code",
   "execution_count": null,
   "metadata": {},
   "outputs": [],
   "source": []
  }
 ],
 "metadata": {
  "anaconda-cloud": {},
  "kernel_info": {
   "name": "python3"
  },
  "kernelspec": {
   "display_name": "Python 3",
   "language": "python",
   "name": "python3"
  },
  "language_info": {
   "codemirror_mode": {
    "name": "ipython",
    "version": 3
   },
   "file_extension": ".py",
   "mimetype": "text/x-python",
   "name": "python",
   "nbconvert_exporter": "python",
   "pygments_lexer": "ipython3",
   "version": "3.8.3"
  },
  "latex_envs": {
   "LaTeX_envs_menu_present": true,
   "autoclose": false,
   "autocomplete": true,
   "bibliofile": "biblio.bib",
   "cite_by": "apalike",
   "current_citInitial": 1,
   "eqLabelWithNumbers": true,
   "eqNumInitial": 1,
   "hotkeys": {
    "equation": "Ctrl-E",
    "itemize": "Ctrl-I"
   },
   "labels_anchors": false,
   "latex_user_defs": false,
   "report_style_numbering": false,
   "user_envs_cfg": false
  },
  "nteract": {
   "version": "0.12.3"
  }
 },
 "nbformat": 4,
 "nbformat_minor": 2
}
