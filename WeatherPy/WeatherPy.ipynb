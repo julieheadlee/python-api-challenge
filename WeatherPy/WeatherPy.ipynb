{
 "cells": [
  {
   "cell_type": "markdown",
   "metadata": {},
   "source": [
    "# WeatherPy\n",
    "----\n",
    "\n",
    "#### Note\n",
    "* Instructions have been included for each segment. You do not have to follow them exactly, but they are included to help you think through the steps."
   ]
  },
  {
   "cell_type": "code",
   "execution_count": 18,
   "metadata": {
    "scrolled": true
   },
   "outputs": [],
   "source": [
    "# Dependencies and Setup\n",
    "import matplotlib.pyplot as plt\n",
    "import pandas as pd\n",
    "import numpy as np\n",
    "import requests\n",
    "import time\n",
    "from scipy.stats import linregress\n",
    "\n",
    "# Import API key\n",
    "from api_keys import weather_api_key\n",
    "\n",
    "# Incorporated citipy to determine city based on latitude and longitude\n",
    "from citipy import citipy\n",
    "\n",
    "# Output File (CSV)\n",
    "output_data_file = \"output_data/cities.csv\"\n",
    "\n",
    "# Range of latitudes and longitudes\n",
    "lat_range = (-90, 90)\n",
    "lng_range = (-180, 180)"
   ]
  },
  {
   "cell_type": "markdown",
   "metadata": {},
   "source": [
    "## Generate Cities List"
   ]
  },
  {
   "cell_type": "code",
   "execution_count": 21,
   "metadata": {},
   "outputs": [
    {
     "name": "stdout",
     "output_type": "stream",
     "text": [
      "['grindavik', 'mahajanga', 'saldanha', 'rikitea', 'saskylakh', 'ushuaia', 'west bay', 'punta arenas', 'huarmey', 'tahta', 'jamestown', 'ketchikan', 'harper', 'barentsburg', 'belushya guba', 'shubarkuduk', 'kodiak', 'bluff']\n"
     ]
    }
   ],
   "source": [
    "# List for holding lat_lngs and cities\n",
    "lat_lngs = []\n",
    "cities = []\n",
    "\n",
    "# Create a set of random lat and lng combinations -- added smaller sample to test\n",
    "#lats = np.random.uniform(lat_range[0], lat_range[1], size=1500)\n",
    "lats = np.random.uniform(lat_range[0], lat_range[1], size=20)\n",
    "#lngs = np.random.uniform(lng_range[0], lng_range[1], size=1500)\n",
    "lngs = np.random.uniform(lng_range[0], lng_range[1], size=20)\n",
    "lat_lngs = zip(lats, lngs)\n",
    "\n",
    "# Identify nearest city for each lat, lng combination\n",
    "for lat_lng in lat_lngs:\n",
    "    city = citipy.nearest_city(lat_lng[0], lat_lng[1]).city_name\n",
    "    \n",
    "    # If the city is unique, then add it to a our cities list\n",
    "    if city not in cities:\n",
    "        cities.append(city)\n",
    "\n",
    "# Print the city count to confirm sufficient count\n",
    "len(cities)\n",
    "print(cities)"
   ]
  },
  {
   "cell_type": "markdown",
   "metadata": {},
   "source": [
    "### Perform API Calls\n",
    "* Perform a weather check on each city using a series of successive API calls.\n",
    "* Include a print log of each city as it'sbeing processed (with the city number and city name).\n"
   ]
  },
  {
   "cell_type": "code",
   "execution_count": 22,
   "metadata": {
    "scrolled": true
   },
   "outputs": [
    {
     "name": "stdout",
     "output_type": "stream",
     "text": [
      "Beginning Data Retrieval\n",
      "--------------------------------\n",
      "Processing Record 1 | grindavik\n",
      "Processing Record 2 | mahajanga\n",
      "Processing Record 3 | saldanha\n",
      "Processing Record 4 | rikitea\n",
      "Processing Record 5 | saskylakh\n",
      "Processing Record 6 | ushuaia\n",
      "Processing Record 7 | west bay\n",
      "Processing Record 8 | punta arenas\n",
      "Processing Record 9 | huarmey\n",
      "Processing Record 10 | tahta\n",
      "Processing Record 11 | jamestown\n",
      "Processing Record 12 | ketchikan\n",
      "Processing Record 13 | harper\n",
      "Processing Record 14 | barentsburg\n",
      "City not found.  Skipping...\n",
      "Processing Record 15 | belushya guba\n",
      "City not found.  Skipping...\n",
      "Processing Record 16 | shubarkuduk\n",
      "Processing Record 17 | kodiak\n",
      "Processing Record 18 | bluff\n"
     ]
    }
   ],
   "source": [
    "base_url = \"http://api.openweathermap.org/data/2.5/weather?units=imperial&appid=\" + weather_api_key + \"&q=\"\n",
    "\n",
    "print(\"Beginning Data Retrieval\")\n",
    "print(\"--------------------------------\")\n",
    "\n",
    "#set up lists to hold data retrieved in the for loop\n",
    "temperature = []\n",
    "humidity = []\n",
    "cloudiness = []\n",
    "wind = []\n",
    "lat = []\n",
    "good_city = []\n",
    "\n",
    "cityCount = 0\n",
    "# Build query URL\n",
    "for city in cities:\n",
    "    cityCount += 1\n",
    "    print(f\"Processing Record {cityCount} | {city}\")\n",
    "    try:\n",
    "        weather_response = requests.get(base_url + city)\n",
    "        weather_json = weather_response.json()\n",
    "        lat.append(weather_json[\"coord\"][\"lat\"])\n",
    "        temperature.append(weather_json[\"main\"][\"temp\"])\n",
    "        humidity.append(weather_json[\"main\"][\"humidity\"])\n",
    "        cloudiness.append(weather_json[\"clouds\"][\"all\"])\n",
    "        wind.append(weather_json[\"wind\"][\"speed\"])\n",
    "        good_city.append(city)\n",
    "    except: \n",
    "        print(\"City not found.  Skipping...\")\n",
    " "
   ]
  },
  {
   "cell_type": "markdown",
   "metadata": {},
   "source": [
    "### Convert Raw Data to DataFrame\n",
    "* Export the city data into a .csv.\n",
    "* Display the DataFrame"
   ]
  },
  {
   "cell_type": "code",
   "execution_count": 26,
   "metadata": {},
   "outputs": [
    {
     "data": {
      "text/html": [
       "<div>\n",
       "<style scoped>\n",
       "    .dataframe tbody tr th:only-of-type {\n",
       "        vertical-align: middle;\n",
       "    }\n",
       "\n",
       "    .dataframe tbody tr th {\n",
       "        vertical-align: top;\n",
       "    }\n",
       "\n",
       "    .dataframe thead th {\n",
       "        text-align: right;\n",
       "    }\n",
       "</style>\n",
       "<table border=\"1\" class=\"dataframe\">\n",
       "  <thead>\n",
       "    <tr style=\"text-align: right;\">\n",
       "      <th></th>\n",
       "      <th>city</th>\n",
       "      <th>lat</th>\n",
       "      <th>temp</th>\n",
       "      <th>humidity</th>\n",
       "      <th>cloudiness</th>\n",
       "      <th>windspeed</th>\n",
       "    </tr>\n",
       "  </thead>\n",
       "  <tbody>\n",
       "    <tr>\n",
       "      <th>0</th>\n",
       "      <td>grindavik</td>\n",
       "      <td>63.84</td>\n",
       "      <td>23.00</td>\n",
       "      <td>57</td>\n",
       "      <td>0</td>\n",
       "      <td>3.36</td>\n",
       "    </tr>\n",
       "    <tr>\n",
       "      <th>1</th>\n",
       "      <td>mahajanga</td>\n",
       "      <td>-15.72</td>\n",
       "      <td>77.00</td>\n",
       "      <td>100</td>\n",
       "      <td>20</td>\n",
       "      <td>2.24</td>\n",
       "    </tr>\n",
       "    <tr>\n",
       "      <th>2</th>\n",
       "      <td>saldanha</td>\n",
       "      <td>-33.01</td>\n",
       "      <td>59.00</td>\n",
       "      <td>67</td>\n",
       "      <td>0</td>\n",
       "      <td>5.82</td>\n",
       "    </tr>\n",
       "    <tr>\n",
       "      <th>3</th>\n",
       "      <td>rikitea</td>\n",
       "      <td>-23.12</td>\n",
       "      <td>77.68</td>\n",
       "      <td>72</td>\n",
       "      <td>4</td>\n",
       "      <td>10.49</td>\n",
       "    </tr>\n",
       "    <tr>\n",
       "      <th>4</th>\n",
       "      <td>saskylakh</td>\n",
       "      <td>71.92</td>\n",
       "      <td>-1.46</td>\n",
       "      <td>91</td>\n",
       "      <td>100</td>\n",
       "      <td>10.47</td>\n",
       "    </tr>\n",
       "  </tbody>\n",
       "</table>\n",
       "</div>"
      ],
      "text/plain": [
       "        city    lat   temp  humidity  cloudiness  windspeed\n",
       "0  grindavik  63.84  23.00        57           0       3.36\n",
       "1  mahajanga -15.72  77.00       100          20       2.24\n",
       "2   saldanha -33.01  59.00        67           0       5.82\n",
       "3    rikitea -23.12  77.68        72           4      10.49\n",
       "4  saskylakh  71.92  -1.46        91         100      10.47"
      ]
     },
     "execution_count": 26,
     "metadata": {},
     "output_type": "execute_result"
    }
   ],
   "source": [
    "# Create the dictionary from the individual lists\n",
    "city_dict = {\n",
    "    \"city\": good_city,\n",
    "    \"lat\": lat,\n",
    "    \"temp\": temperature,\n",
    "    \"humidity\": humidity,\n",
    "    \"cloudiness\": cloudiness,\n",
    "    \"windspeed\": wind\n",
    "}\n",
    "\n",
    "#Convert dictionary to dataframe\n",
    "city_data = pd.DataFrame(weather_dict)\n",
    "\n",
    "# Save the dataframe as a csv.\n",
    "city_data.to_csv(output_data_file)\n",
    "\n",
    "# Print the first five rows of the dataframe\n",
    "city_data.head()"
   ]
  },
  {
   "cell_type": "markdown",
   "metadata": {},
   "source": [
    "## Inspect the data and remove the cities where the humidity > 100%.\n",
    "----\n",
    "Skip this step if there are no cities that have humidity > 100%. "
   ]
  },
  {
   "cell_type": "code",
   "execution_count": 31,
   "metadata": {},
   "outputs": [],
   "source": [
    "# Simple method to make sure humidity levels above 100 are dropped\n",
    "clean_city_data = city_data.loc[city_data[\"humidity\"] <= 100]"
   ]
  },
  {
   "cell_type": "code",
   "execution_count": 32,
   "metadata": {},
   "outputs": [
    {
     "data": {
      "text/html": [
       "<div>\n",
       "<style scoped>\n",
       "    .dataframe tbody tr th:only-of-type {\n",
       "        vertical-align: middle;\n",
       "    }\n",
       "\n",
       "    .dataframe tbody tr th {\n",
       "        vertical-align: top;\n",
       "    }\n",
       "\n",
       "    .dataframe thead th {\n",
       "        text-align: right;\n",
       "    }\n",
       "</style>\n",
       "<table border=\"1\" class=\"dataframe\">\n",
       "  <thead>\n",
       "    <tr style=\"text-align: right;\">\n",
       "      <th></th>\n",
       "      <th>city</th>\n",
       "      <th>lat</th>\n",
       "      <th>temp</th>\n",
       "      <th>humidity</th>\n",
       "      <th>cloudiness</th>\n",
       "      <th>windspeed</th>\n",
       "    </tr>\n",
       "  </thead>\n",
       "  <tbody>\n",
       "    <tr>\n",
       "      <th>0</th>\n",
       "      <td>grindavik</td>\n",
       "      <td>63.84</td>\n",
       "      <td>23.00</td>\n",
       "      <td>57</td>\n",
       "      <td>0</td>\n",
       "      <td>3.36</td>\n",
       "    </tr>\n",
       "    <tr>\n",
       "      <th>1</th>\n",
       "      <td>mahajanga</td>\n",
       "      <td>-15.72</td>\n",
       "      <td>77.00</td>\n",
       "      <td>100</td>\n",
       "      <td>20</td>\n",
       "      <td>2.24</td>\n",
       "    </tr>\n",
       "    <tr>\n",
       "      <th>2</th>\n",
       "      <td>saldanha</td>\n",
       "      <td>-33.01</td>\n",
       "      <td>59.00</td>\n",
       "      <td>67</td>\n",
       "      <td>0</td>\n",
       "      <td>5.82</td>\n",
       "    </tr>\n",
       "    <tr>\n",
       "      <th>3</th>\n",
       "      <td>rikitea</td>\n",
       "      <td>-23.12</td>\n",
       "      <td>77.68</td>\n",
       "      <td>72</td>\n",
       "      <td>4</td>\n",
       "      <td>10.49</td>\n",
       "    </tr>\n",
       "    <tr>\n",
       "      <th>4</th>\n",
       "      <td>saskylakh</td>\n",
       "      <td>71.92</td>\n",
       "      <td>-1.46</td>\n",
       "      <td>91</td>\n",
       "      <td>100</td>\n",
       "      <td>10.47</td>\n",
       "    </tr>\n",
       "  </tbody>\n",
       "</table>\n",
       "</div>"
      ],
      "text/plain": [
       "        city    lat   temp  humidity  cloudiness  windspeed\n",
       "0  grindavik  63.84  23.00        57           0       3.36\n",
       "1  mahajanga -15.72  77.00       100          20       2.24\n",
       "2   saldanha -33.01  59.00        67           0       5.82\n",
       "3    rikitea -23.12  77.68        72           4      10.49\n",
       "4  saskylakh  71.92  -1.46        91         100      10.47"
      ]
     },
     "execution_count": 32,
     "metadata": {},
     "output_type": "execute_result"
    }
   ],
   "source": [
    "# print the first 5 again\n",
    "clean_city_data.head()\n"
   ]
  },
  {
   "cell_type": "markdown",
   "metadata": {},
   "source": [
    "## Plotting the Data\n",
    "* Use proper labeling of the plots using plot titles (including date of analysis) and axes labels.\n",
    "* Save the plotted figures as .pngs."
   ]
  },
  {
   "cell_type": "markdown",
   "metadata": {},
   "source": [
    "## Latitude vs. Temperature Plot"
   ]
  },
  {
   "cell_type": "code",
   "execution_count": null,
   "metadata": {
    "scrolled": true
   },
   "outputs": [],
   "source": []
  },
  {
   "cell_type": "markdown",
   "metadata": {},
   "source": [
    "## Latitude vs. Humidity Plot"
   ]
  },
  {
   "cell_type": "code",
   "execution_count": null,
   "metadata": {},
   "outputs": [],
   "source": []
  },
  {
   "cell_type": "markdown",
   "metadata": {},
   "source": [
    "## Latitude vs. Cloudiness Plot"
   ]
  },
  {
   "cell_type": "code",
   "execution_count": null,
   "metadata": {},
   "outputs": [],
   "source": []
  },
  {
   "cell_type": "markdown",
   "metadata": {},
   "source": [
    "## Latitude vs. Wind Speed Plot"
   ]
  },
  {
   "cell_type": "code",
   "execution_count": null,
   "metadata": {},
   "outputs": [],
   "source": []
  },
  {
   "cell_type": "markdown",
   "metadata": {},
   "source": [
    "## Linear Regression"
   ]
  },
  {
   "cell_type": "code",
   "execution_count": null,
   "metadata": {},
   "outputs": [],
   "source": []
  },
  {
   "cell_type": "markdown",
   "metadata": {},
   "source": [
    "####  Northern Hemisphere - Max Temp vs. Latitude Linear Regression"
   ]
  },
  {
   "cell_type": "code",
   "execution_count": null,
   "metadata": {},
   "outputs": [],
   "source": []
  },
  {
   "cell_type": "markdown",
   "metadata": {},
   "source": [
    "####  Southern Hemisphere - Max Temp vs. Latitude Linear Regression"
   ]
  },
  {
   "cell_type": "code",
   "execution_count": null,
   "metadata": {},
   "outputs": [],
   "source": []
  },
  {
   "cell_type": "markdown",
   "metadata": {},
   "source": [
    "####  Northern Hemisphere - Humidity (%) vs. Latitude Linear Regression"
   ]
  },
  {
   "cell_type": "code",
   "execution_count": null,
   "metadata": {},
   "outputs": [],
   "source": []
  },
  {
   "cell_type": "markdown",
   "metadata": {},
   "source": [
    "####  Southern Hemisphere - Humidity (%) vs. Latitude Linear Regression"
   ]
  },
  {
   "cell_type": "code",
   "execution_count": null,
   "metadata": {},
   "outputs": [],
   "source": []
  },
  {
   "cell_type": "markdown",
   "metadata": {},
   "source": [
    "####  Northern Hemisphere - Cloudiness (%) vs. Latitude Linear Regression"
   ]
  },
  {
   "cell_type": "code",
   "execution_count": null,
   "metadata": {},
   "outputs": [],
   "source": []
  },
  {
   "cell_type": "markdown",
   "metadata": {},
   "source": [
    "####  Southern Hemisphere - Cloudiness (%) vs. Latitude Linear Regression"
   ]
  },
  {
   "cell_type": "code",
   "execution_count": null,
   "metadata": {},
   "outputs": [],
   "source": []
  },
  {
   "cell_type": "markdown",
   "metadata": {},
   "source": [
    "####  Northern Hemisphere - Wind Speed (mph) vs. Latitude Linear Regression"
   ]
  },
  {
   "cell_type": "code",
   "execution_count": null,
   "metadata": {},
   "outputs": [],
   "source": []
  },
  {
   "cell_type": "markdown",
   "metadata": {},
   "source": [
    "####  Southern Hemisphere - Wind Speed (mph) vs. Latitude Linear Regression"
   ]
  },
  {
   "cell_type": "code",
   "execution_count": null,
   "metadata": {},
   "outputs": [],
   "source": []
  },
  {
   "cell_type": "code",
   "execution_count": null,
   "metadata": {},
   "outputs": [],
   "source": []
  }
 ],
 "metadata": {
  "anaconda-cloud": {},
  "kernel_info": {
   "name": "python3"
  },
  "kernelspec": {
   "display_name": "Python 3",
   "language": "python",
   "name": "python3"
  },
  "language_info": {
   "codemirror_mode": {
    "name": "ipython",
    "version": 3
   },
   "file_extension": ".py",
   "mimetype": "text/x-python",
   "name": "python",
   "nbconvert_exporter": "python",
   "pygments_lexer": "ipython3",
   "version": "3.8.3"
  },
  "latex_envs": {
   "LaTeX_envs_menu_present": true,
   "autoclose": false,
   "autocomplete": true,
   "bibliofile": "biblio.bib",
   "cite_by": "apalike",
   "current_citInitial": 1,
   "eqLabelWithNumbers": true,
   "eqNumInitial": 1,
   "hotkeys": {
    "equation": "Ctrl-E",
    "itemize": "Ctrl-I"
   },
   "labels_anchors": false,
   "latex_user_defs": false,
   "report_style_numbering": false,
   "user_envs_cfg": false
  },
  "nteract": {
   "version": "0.12.3"
  }
 },
 "nbformat": 4,
 "nbformat_minor": 2
}
